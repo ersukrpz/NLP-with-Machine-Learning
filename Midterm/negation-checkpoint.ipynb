{
 "cells": [
  {
   "cell_type": "code",
   "execution_count": 1,
   "id": "1839d16f",
   "metadata": {},
   "outputs": [],
   "source": [
    "import pandas as pd\n",
    "from sklearn.model_selection import train_test_split\n",
    "from sklearn.feature_extraction.text import CountVectorizer\n",
    "from nltk.corpus import stopwords\n",
    "from sklearn.naive_bayes import GaussianNB\n",
    "from sklearn import metrics\n",
    "from nltk.corpus import stopwords\n",
    "from re import search"
   ]
  },
  {
   "cell_type": "code",
   "execution_count": 2,
   "id": "f8403286",
   "metadata": {},
   "outputs": [],
   "source": [
    "data = pd.read_excel(\"DATASET.xlsx\", header=None)\n",
    "data.columns = [\"Sentence\", \"Class\"]"
   ]
  },
  {
   "cell_type": "code",
   "execution_count": 3,
   "id": "207355cf",
   "metadata": {},
   "outputs": [
    {
     "name": "stderr",
     "output_type": "stream",
     "text": [
      "<ipython-input-3-fbfdc9614ea6>:12: FutureWarning: The default value of regex will change from True to False in a future version.\n",
      "  data['Sentence'] = data['Sentence'].str.replace('[^\\w\\s]','')\n"
     ]
    }
   ],
   "source": [
    "#Text Preprocessing\n",
    "columns = ['index','Class', 'Sentence']\n",
    "df_ = pd.DataFrame(columns=columns)\n",
    "\n",
    "#remove email adress\n",
    "data['Sentence'] = data['Sentence'].replace('[a-zA-Z0-9-_.]+@[a-zA-Z0-9-_.]+', '', regex=True)\n",
    "\n",
    "#remove IP address\n",
    "data['Sentence'] = data['Sentence'].replace('((25[0-5]|2[0-4][0-9]|[01]?[0-9][0-9]?)(\\.|$)){4}', '', regex=True)\n",
    "\n",
    "#remove punctaitions and special chracters\n",
    "data['Sentence'] = data['Sentence'].str.replace('[^\\w\\s]','')\n",
    "\n",
    "#remove numbers\n",
    "data['Sentence'] = data['Sentence'].replace('\\d', '', regex=True)\n",
    "\n",
    "data[\"Class\"].unique()\n",
    "\n",
    "data['Sentence'] = data['Sentence'].str.strip().str.lower()"
   ]
  },
  {
   "cell_type": "markdown",
   "id": "aece4a12",
   "metadata": {},
   "source": [
    "# NEGATION"
   ]
  },
  {
   "cell_type": "code",
   "execution_count": 4,
   "id": "9031e027",
   "metadata": {},
   "outputs": [],
   "source": [
    "for i, sentence in enumerate(data[\"Sentence\"]): \n",
    "    lst = sentence.split()\n",
    "    substring = \"değil\"\n",
    "    for fullstring in lst:\n",
    "        if search(substring, fullstring):\n",
    "            cümle = \"\"\n",
    "            for j in lst:\n",
    "                j = \"NOT_\" + j\n",
    "                cümle = cümle + j + \" \"\n",
    "            data[\"Sentence\"].loc[i] = cümle\n",
    "    substring = \"yok\"\n",
    "    for fullstring in lst:\n",
    "        if search(substring, fullstring):\n",
    "            cümle = \"\"\n",
    "            for j in lst:\n",
    "                j = \"NOT_\" + j\n",
    "                cümle = cümle + j + \" \"\n",
    "            data[\"Sentence\"].loc[i] = cümle"
   ]
  },
  {
   "cell_type": "markdown",
   "id": "5bd76d43",
   "metadata": {},
   "source": [
    "# NB"
   ]
  },
  {
   "cell_type": "code",
   "execution_count": 8,
   "id": "61359a6b",
   "metadata": {},
   "outputs": [],
   "source": [
    "for i, cell in enumerate(data[\"Class\"]):\n",
    "    if cell == \"mutlu\":\n",
    "        value = 0\n",
    "    elif cell == \"korku\":\n",
    "        value = 1\n",
    "    elif cell == \"kızgın\":\n",
    "        value = 2\n",
    "    elif cell == \"üzgün\":\n",
    "        value = 3\n",
    "    elif cell == \"nefret\":\n",
    "        value = 4\n",
    "    elif cell == \"şaşkın\":\n",
    "        value = 5\n",
    "\n",
    "    data[\"Class\"].loc[i] = value"
   ]
  },
  {
   "cell_type": "code",
   "execution_count": 9,
   "id": "d6fe28d4",
   "metadata": {},
   "outputs": [],
   "source": [
    "x = data['Sentence']\n",
    "y = data['Class']\n",
    "x, x_test, y, y_test = train_test_split(x,y, stratify=y, test_size=0.25, random_state=42)"
   ]
  },
  {
   "cell_type": "code",
   "execution_count": 10,
   "id": "0c0c5361",
   "metadata": {},
   "outputs": [],
   "source": [
    "vec = CountVectorizer(stop_words=stopwords.words('turkish'))\n",
    "x = vec.fit_transform(x).toarray()\n",
    "x_test = vec.transform(x_test).toarray()"
   ]
  },
  {
   "cell_type": "code",
   "execution_count": 11,
   "id": "70a4ebf4",
   "metadata": {},
   "outputs": [
    {
     "data": {
      "text/plain": [
       "GaussianNB()"
      ]
     },
     "execution_count": 11,
     "metadata": {},
     "output_type": "execute_result"
    }
   ],
   "source": [
    "model = GaussianNB()\n",
    "model.fit(x.astype('int'), y.astype('int'))"
   ]
  },
  {
   "cell_type": "code",
   "execution_count": 12,
   "id": "6bb07e65",
   "metadata": {},
   "outputs": [],
   "source": [
    "pred = model.predict(x_test)"
   ]
  },
  {
   "cell_type": "code",
   "execution_count": 13,
   "id": "c10306f7",
   "metadata": {},
   "outputs": [],
   "source": [
    "expected = y_test.astype('int')\n",
    "predicted = model.predict(x_test.astype('int'))"
   ]
  },
  {
   "cell_type": "code",
   "execution_count": 14,
   "id": "c9ecfb11",
   "metadata": {},
   "outputs": [
    {
     "name": "stdout",
     "output_type": "stream",
     "text": [
      "              precision    recall  f1-score   support\n",
      "\n",
      "           0       0.57      0.83      0.68       631\n",
      "           1       0.76      0.71      0.73       620\n",
      "           2       0.74      0.42      0.53       627\n",
      "           3       0.63      0.53      0.58       622\n",
      "           4       0.65      0.88      0.75       603\n",
      "           5       0.63      0.56      0.59       571\n",
      "\n",
      "    accuracy                           0.65      3674\n",
      "   macro avg       0.67      0.65      0.64      3674\n",
      "weighted avg       0.67      0.65      0.64      3674\n",
      "\n"
     ]
    }
   ],
   "source": [
    "print(metrics.classification_report(expected,predicted))"
   ]
  },
  {
   "cell_type": "code",
   "execution_count": 15,
   "id": "0bdf1351",
   "metadata": {},
   "outputs": [
    {
     "name": "stdout",
     "output_type": "stream",
     "text": [
      "[[521  17  11  20  23  39]\n",
      " [ 51 439  14  34  66  16]\n",
      " [ 60  26 262 107 115  57]\n",
      " [110  56  26 329  42  59]\n",
      " [ 13  15  15  13 530  17]\n",
      " [154  22  25  17  36 317]]\n"
     ]
    }
   ],
   "source": [
    "print(metrics.confusion_matrix(expected,predicted))"
   ]
  },
  {
   "cell_type": "code",
   "execution_count": null,
   "id": "190ac043",
   "metadata": {},
   "outputs": [],
   "source": []
  },
  {
   "cell_type": "code",
   "execution_count": null,
   "id": "f74eab35",
   "metadata": {},
   "outputs": [],
   "source": []
  }
 ],
 "metadata": {
  "kernelspec": {
   "display_name": "Python 3 (ipykernel)",
   "language": "python",
   "name": "python3"
  },
  "language_info": {
   "codemirror_mode": {
    "name": "ipython",
    "version": 3
   },
   "file_extension": ".py",
   "mimetype": "text/x-python",
   "name": "python",
   "nbconvert_exporter": "python",
   "pygments_lexer": "ipython3",
   "version": "3.9.7"
  }
 },
 "nbformat": 4,
 "nbformat_minor": 5
}
