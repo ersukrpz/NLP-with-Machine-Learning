{
 "cells": [
  {
   "cell_type": "code",
   "execution_count": 1,
   "id": "b27634f2",
   "metadata": {},
   "outputs": [],
   "source": [
    "# 171805012 Refiye Şehnaz Yıldırım\n",
    "# 171805043 Ersu Karpuz"
   ]
  },
  {
   "cell_type": "code",
   "execution_count": 2,
   "id": "6d949ce1",
   "metadata": {},
   "outputs": [],
   "source": [
    "import pandas as pd\n",
    "from sklearn.model_selection import train_test_split\n",
    "from sklearn.feature_extraction.text import CountVectorizer\n",
    "from nltk.corpus import stopwords\n",
    "from sklearn.naive_bayes import GaussianNB\n",
    "from sklearn import metrics\n",
    "from nltk.corpus import stopwords"
   ]
  },
  {
   "cell_type": "code",
   "execution_count": 3,
   "id": "22bec656",
   "metadata": {},
   "outputs": [
    {
     "data": {
      "text/html": [
       "<div>\n",
       "<style scoped>\n",
       "    .dataframe tbody tr th:only-of-type {\n",
       "        vertical-align: middle;\n",
       "    }\n",
       "\n",
       "    .dataframe tbody tr th {\n",
       "        vertical-align: top;\n",
       "    }\n",
       "\n",
       "    .dataframe thead th {\n",
       "        text-align: right;\n",
       "    }\n",
       "</style>\n",
       "<table border=\"1\" class=\"dataframe\">\n",
       "  <thead>\n",
       "    <tr style=\"text-align: right;\">\n",
       "      <th></th>\n",
       "      <th>Sentence</th>\n",
       "      <th>Class</th>\n",
       "    </tr>\n",
       "  </thead>\n",
       "  <tbody>\n",
       "    <tr>\n",
       "      <th>0</th>\n",
       "      <td>Ulan Wifi'ye bağlıyım ben. Ona bağlıyken Turkc...</td>\n",
       "      <td>olumsuz</td>\n",
       "    </tr>\n",
       "    <tr>\n",
       "      <th>1</th>\n",
       "      <td>20 dk 1 GB internet 500 mb sadece kaşar turkce...</td>\n",
       "      <td>olumsuz</td>\n",
       "    </tr>\n",
       "    <tr>\n",
       "      <th>2</th>\n",
       "      <td>Ayrıca turkcell superonline reklamı kadar da k...</td>\n",
       "      <td>olumsuz</td>\n",
       "    </tr>\n",
       "    <tr>\n",
       "      <th>3</th>\n",
       "      <td>Turkcell çok pahalı ya</td>\n",
       "      <td>olumsuz</td>\n",
       "    </tr>\n",
       "    <tr>\n",
       "      <th>4</th>\n",
       "      <td>Turkcell Kaş'ta internetin cekmiyor</td>\n",
       "      <td>olumsuz</td>\n",
       "    </tr>\n",
       "    <tr>\n",
       "      <th>...</th>\n",
       "      <td>...</td>\n",
       "      <td>...</td>\n",
       "    </tr>\n",
       "    <tr>\n",
       "      <th>13827</th>\n",
       "      <td>@Buragl111 turkcell kazık takıl sen bimcell le...</td>\n",
       "      <td>olumsuz</td>\n",
       "    </tr>\n",
       "    <tr>\n",
       "      <th>13828</th>\n",
       "      <td>@Turkcell merhaba turkcell.20 senelik dostlugu...</td>\n",
       "      <td>olumlu</td>\n",
       "    </tr>\n",
       "    <tr>\n",
       "      <th>13829</th>\n",
       "      <td>@TurkcellHizmet merhaba. Numarami bir baska op...</td>\n",
       "      <td>olumsuz</td>\n",
       "    </tr>\n",
       "    <tr>\n",
       "      <th>13830</th>\n",
       "      <td>iyi de Herkes TURKCELL Abonesi Değil ki ??</td>\n",
       "      <td>olumlu</td>\n",
       "    </tr>\n",
       "    <tr>\n",
       "      <th>13831</th>\n",
       "      <td>@turktelekom çekmiyor çekmiyor kaç para ulan b...</td>\n",
       "      <td>olumlu</td>\n",
       "    </tr>\n",
       "  </tbody>\n",
       "</table>\n",
       "<p>13832 rows × 2 columns</p>\n",
       "</div>"
      ],
      "text/plain": [
       "                                                Sentence    Class\n",
       "0      Ulan Wifi'ye bağlıyım ben. Ona bağlıyken Turkc...  olumsuz\n",
       "1      20 dk 1 GB internet 500 mb sadece kaşar turkce...  olumsuz\n",
       "2      Ayrıca turkcell superonline reklamı kadar da k...  olumsuz\n",
       "3                                 Turkcell çok pahalı ya  olumsuz\n",
       "4                    Turkcell Kaş'ta internetin cekmiyor  olumsuz\n",
       "...                                                  ...      ...\n",
       "13827  @Buragl111 turkcell kazık takıl sen bimcell le...  olumsuz\n",
       "13828  @Turkcell merhaba turkcell.20 senelik dostlugu...   olumlu\n",
       "13829  @TurkcellHizmet merhaba. Numarami bir baska op...  olumsuz\n",
       "13830         iyi de Herkes TURKCELL Abonesi Değil ki ??   olumlu\n",
       "13831  @turktelekom çekmiyor çekmiyor kaç para ulan b...   olumlu\n",
       "\n",
       "[13832 rows x 2 columns]"
      ]
     },
     "execution_count": 3,
     "metadata": {},
     "output_type": "execute_result"
    }
   ],
   "source": [
    "#Upload Data\n",
    "data = pd.read_excel(\"NLP1_train_tweets.xlsx\",header=None)\n",
    "\n",
    "data.columns = ['Sentence','Class']\n",
    "data"
   ]
  },
  {
   "cell_type": "code",
   "execution_count": 4,
   "id": "daa6fa9a",
   "metadata": {
    "scrolled": true
   },
   "outputs": [
    {
     "data": {
      "text/html": [
       "<div>\n",
       "<style scoped>\n",
       "    .dataframe tbody tr th:only-of-type {\n",
       "        vertical-align: middle;\n",
       "    }\n",
       "\n",
       "    .dataframe tbody tr th {\n",
       "        vertical-align: top;\n",
       "    }\n",
       "\n",
       "    .dataframe thead th {\n",
       "        text-align: right;\n",
       "    }\n",
       "</style>\n",
       "<table border=\"1\" class=\"dataframe\">\n",
       "  <thead>\n",
       "    <tr style=\"text-align: right;\">\n",
       "      <th></th>\n",
       "      <th>Sentence</th>\n",
       "      <th>Class</th>\n",
       "    </tr>\n",
       "  </thead>\n",
       "  <tbody>\n",
       "    <tr>\n",
       "      <th>0</th>\n",
       "      <td>Ulan Wifi'ye bağlıyım ben. Ona bağlıyken Turkc...</td>\n",
       "      <td>olumsuz</td>\n",
       "    </tr>\n",
       "    <tr>\n",
       "      <th>1</th>\n",
       "      <td>20 dk 1 GB internet 500 mb sadece kaşar turkce...</td>\n",
       "      <td>olumsuz</td>\n",
       "    </tr>\n",
       "    <tr>\n",
       "      <th>2</th>\n",
       "      <td>Ayrıca turkcell superonline reklamı kadar da k...</td>\n",
       "      <td>olumsuz</td>\n",
       "    </tr>\n",
       "    <tr>\n",
       "      <th>3</th>\n",
       "      <td>Turkcell çok pahalı ya</td>\n",
       "      <td>olumsuz</td>\n",
       "    </tr>\n",
       "    <tr>\n",
       "      <th>4</th>\n",
       "      <td>Turkcell Kaş'ta internetin cekmiyor</td>\n",
       "      <td>olumsuz</td>\n",
       "    </tr>\n",
       "  </tbody>\n",
       "</table>\n",
       "</div>"
      ],
      "text/plain": [
       "                                            Sentence    Class\n",
       "0  Ulan Wifi'ye bağlıyım ben. Ona bağlıyken Turkc...  olumsuz\n",
       "1  20 dk 1 GB internet 500 mb sadece kaşar turkce...  olumsuz\n",
       "2  Ayrıca turkcell superonline reklamı kadar da k...  olumsuz\n",
       "3                             Turkcell çok pahalı ya  olumsuz\n",
       "4                Turkcell Kaş'ta internetin cekmiyor  olumsuz"
      ]
     },
     "execution_count": 4,
     "metadata": {},
     "output_type": "execute_result"
    }
   ],
   "source": [
    "data.head()"
   ]
  },
  {
   "cell_type": "code",
   "execution_count": 5,
   "id": "1b549a78",
   "metadata": {
    "scrolled": true
   },
   "outputs": [
    {
     "data": {
      "text/plain": [
       "Sentence    0\n",
       "Class       0\n",
       "dtype: int64"
      ]
     },
     "execution_count": 5,
     "metadata": {},
     "output_type": "execute_result"
    }
   ],
   "source": [
    "data.isnull().sum()"
   ]
  },
  {
   "cell_type": "code",
   "execution_count": 6,
   "id": "eb0e1e2c",
   "metadata": {},
   "outputs": [],
   "source": [
    "# data preprocessing"
   ]
  },
  {
   "cell_type": "code",
   "execution_count": 7,
   "id": "c65a7d45",
   "metadata": {},
   "outputs": [
    {
     "name": "stderr",
     "output_type": "stream",
     "text": [
      "C:\\Users\\Ersu\\AppData\\Local\\Temp/ipykernel_1572/2334610009.py:12: FutureWarning: The default value of regex will change from True to False in a future version.\n",
      "  data['Sentence'] = data['Sentence'].str.replace('[^\\w\\s]','')\n"
     ]
    }
   ],
   "source": [
    "data['Sentence'] = data['Sentence'].str.strip().str.lower()\n",
    "\n",
    "data[\"Class\"].unique()\n",
    "\n",
    "#remove email adress\n",
    "data['Sentence'] = data['Sentence'].replace('[a-zA-Z0-9-_.]+@[a-zA-Z0-9-_.]+', '', regex=True)\n",
    "\n",
    "#remove IP address\n",
    "data['Sentence'] = data['Sentence'].replace('((25[0-5]|2[0-4][0-9]|[01]?[0-9][0-9]?)(\\.|$)){4}', '', regex=True)\n",
    "\n",
    "#remove punctaitions and special chracters\n",
    "data['Sentence'] = data['Sentence'].str.replace('[^\\w\\s]','')\n",
    "\n",
    "#remove numbers\n",
    "data['Sentence'] = data['Sentence'].replace('\\d', '', regex=True)"
   ]
  },
  {
   "cell_type": "code",
   "execution_count": 8,
   "id": "6140022c",
   "metadata": {},
   "outputs": [
    {
     "data": {
      "text/html": [
       "<div>\n",
       "<style scoped>\n",
       "    .dataframe tbody tr th:only-of-type {\n",
       "        vertical-align: middle;\n",
       "    }\n",
       "\n",
       "    .dataframe tbody tr th {\n",
       "        vertical-align: top;\n",
       "    }\n",
       "\n",
       "    .dataframe thead th {\n",
       "        text-align: right;\n",
       "    }\n",
       "</style>\n",
       "<table border=\"1\" class=\"dataframe\">\n",
       "  <thead>\n",
       "    <tr style=\"text-align: right;\">\n",
       "      <th></th>\n",
       "      <th>Sentence</th>\n",
       "      <th>Class</th>\n",
       "    </tr>\n",
       "  </thead>\n",
       "  <tbody>\n",
       "    <tr>\n",
       "      <th>0</th>\n",
       "      <td>ulan wifiye bağlıyım ben ona bağlıyken turkcel...</td>\n",
       "      <td>olumsuz</td>\n",
       "    </tr>\n",
       "    <tr>\n",
       "      <th>1</th>\n",
       "      <td>dk  gb internet  mb sadece kaşar turkcell de ...</td>\n",
       "      <td>olumsuz</td>\n",
       "    </tr>\n",
       "    <tr>\n",
       "      <th>2</th>\n",
       "      <td>ayrıca turkcell superonline reklamı kadar da k...</td>\n",
       "      <td>olumsuz</td>\n",
       "    </tr>\n",
       "    <tr>\n",
       "      <th>3</th>\n",
       "      <td>turkcell çok pahalı ya</td>\n",
       "      <td>olumsuz</td>\n",
       "    </tr>\n",
       "    <tr>\n",
       "      <th>4</th>\n",
       "      <td>turkcell kaşta internetin cekmiyor</td>\n",
       "      <td>olumsuz</td>\n",
       "    </tr>\n",
       "  </tbody>\n",
       "</table>\n",
       "</div>"
      ],
      "text/plain": [
       "                                            Sentence    Class\n",
       "0  ulan wifiye bağlıyım ben ona bağlıyken turkcel...  olumsuz\n",
       "1   dk  gb internet  mb sadece kaşar turkcell de ...  olumsuz\n",
       "2  ayrıca turkcell superonline reklamı kadar da k...  olumsuz\n",
       "3                             turkcell çok pahalı ya  olumsuz\n",
       "4                 turkcell kaşta internetin cekmiyor  olumsuz"
      ]
     },
     "execution_count": 8,
     "metadata": {},
     "output_type": "execute_result"
    }
   ],
   "source": [
    "data.head()"
   ]
  },
  {
   "cell_type": "code",
   "execution_count": 9,
   "id": "49de4f31",
   "metadata": {},
   "outputs": [],
   "source": [
    "for i, cell in enumerate(data[\"Class\"]):\n",
    "    if cell == \"olumsuz\":\n",
    "        value = 0\n",
    "    elif cell == \"olumlu\":\n",
    "        value = 1\n",
    "    else:\n",
    "        value = 2\n",
    "    data[\"Class\"].loc[i] = value"
   ]
  },
  {
   "cell_type": "code",
   "execution_count": 10,
   "id": "d8742510",
   "metadata": {},
   "outputs": [
    {
     "data": {
      "text/html": [
       "<div>\n",
       "<style scoped>\n",
       "    .dataframe tbody tr th:only-of-type {\n",
       "        vertical-align: middle;\n",
       "    }\n",
       "\n",
       "    .dataframe tbody tr th {\n",
       "        vertical-align: top;\n",
       "    }\n",
       "\n",
       "    .dataframe thead th {\n",
       "        text-align: right;\n",
       "    }\n",
       "</style>\n",
       "<table border=\"1\" class=\"dataframe\">\n",
       "  <thead>\n",
       "    <tr style=\"text-align: right;\">\n",
       "      <th></th>\n",
       "      <th>Sentence</th>\n",
       "      <th>Class</th>\n",
       "    </tr>\n",
       "  </thead>\n",
       "  <tbody>\n",
       "    <tr>\n",
       "      <th>0</th>\n",
       "      <td>ulan wifiye bağlıyım ben ona bağlıyken turkcel...</td>\n",
       "      <td>0</td>\n",
       "    </tr>\n",
       "    <tr>\n",
       "      <th>1</th>\n",
       "      <td>dk  gb internet  mb sadece kaşar turkcell de ...</td>\n",
       "      <td>0</td>\n",
       "    </tr>\n",
       "    <tr>\n",
       "      <th>2</th>\n",
       "      <td>ayrıca turkcell superonline reklamı kadar da k...</td>\n",
       "      <td>0</td>\n",
       "    </tr>\n",
       "    <tr>\n",
       "      <th>3</th>\n",
       "      <td>turkcell çok pahalı ya</td>\n",
       "      <td>0</td>\n",
       "    </tr>\n",
       "    <tr>\n",
       "      <th>4</th>\n",
       "      <td>turkcell kaşta internetin cekmiyor</td>\n",
       "      <td>0</td>\n",
       "    </tr>\n",
       "  </tbody>\n",
       "</table>\n",
       "</div>"
      ],
      "text/plain": [
       "                                            Sentence Class\n",
       "0  ulan wifiye bağlıyım ben ona bağlıyken turkcel...     0\n",
       "1   dk  gb internet  mb sadece kaşar turkcell de ...     0\n",
       "2  ayrıca turkcell superonline reklamı kadar da k...     0\n",
       "3                             turkcell çok pahalı ya     0\n",
       "4                 turkcell kaşta internetin cekmiyor     0"
      ]
     },
     "execution_count": 10,
     "metadata": {},
     "output_type": "execute_result"
    }
   ],
   "source": [
    "data.head()"
   ]
  },
  {
   "cell_type": "code",
   "execution_count": 11,
   "id": "f0012c76",
   "metadata": {},
   "outputs": [],
   "source": [
    "# tokenizing"
   ]
  },
  {
   "cell_type": "code",
   "execution_count": 12,
   "id": "8dc34832",
   "metadata": {},
   "outputs": [],
   "source": [
    "x = data['Sentence']\n",
    "y = data['Class']\n",
    "x, x_test, y, y_test = train_test_split(x,y, stratify=y, test_size=0.25, random_state=42)"
   ]
  },
  {
   "cell_type": "code",
   "execution_count": 13,
   "id": "9caf1310",
   "metadata": {},
   "outputs": [
    {
     "name": "stderr",
     "output_type": "stream",
     "text": [
      "[nltk_data] Downloading package stopwords to\n",
      "[nltk_data]     C:\\Users\\Ersu\\AppData\\Roaming\\nltk_data...\n",
      "[nltk_data]   Package stopwords is already up-to-date!\n"
     ]
    },
    {
     "data": {
      "text/plain": [
       "True"
      ]
     },
     "execution_count": 13,
     "metadata": {},
     "output_type": "execute_result"
    }
   ],
   "source": [
    "import nltk\n",
    "nltk.download('stopwords')"
   ]
  },
  {
   "cell_type": "code",
   "execution_count": 14,
   "id": "254dde30",
   "metadata": {},
   "outputs": [],
   "source": [
    "vec = CountVectorizer(stop_words=stopwords.words('turkish'))\n",
    "\n",
    "x = vec.fit_transform(x).toarray()\n",
    "x_test = vec.transform(x_test).toarray()"
   ]
  },
  {
   "cell_type": "code",
   "execution_count": 15,
   "id": "343b34ee",
   "metadata": {},
   "outputs": [
    {
     "data": {
      "text/plain": [
       "GaussianNB()"
      ]
     },
     "execution_count": 15,
     "metadata": {},
     "output_type": "execute_result"
    }
   ],
   "source": [
    "from sklearn.naive_bayes import GaussianNB\n",
    "\n",
    "model = GaussianNB()\n",
    "model.fit(x.astype('int'), y.astype('int'))"
   ]
  },
  {
   "cell_type": "code",
   "execution_count": 16,
   "id": "9f300f26",
   "metadata": {},
   "outputs": [],
   "source": [
    "pred = model.predict(x_test)"
   ]
  },
  {
   "cell_type": "code",
   "execution_count": 17,
   "id": "3efc0038",
   "metadata": {},
   "outputs": [
    {
     "name": "stdout",
     "output_type": "stream",
     "text": [
      "accuracy = 63.7941006362059\n",
      "recall = 79.11392405063292\n",
      "precision = 54.08653846153846\n",
      "f1 = 64.24900057110221\n"
     ]
    }
   ],
   "source": [
    "tp = 0\n",
    "fp = 0\n",
    "tn = 0\n",
    "fn = 0\n",
    "for i in range(len(pred)):\n",
    "    if pred[i] == 1 and y_test.values[i] == 1:\n",
    "        tp += 1\n",
    "    elif pred[i] == 0 and y_test.values[i] == 1:\n",
    "        fp += 1\n",
    "    elif pred[i] == 0 and y_test.values[i] == 0:\n",
    "        tn += 1\n",
    "    elif pred[i] == 1 and y_test.values[i] == 0:\n",
    "        fn += 1\n",
    "\n",
    "accuracy = (tp + tn)/(tp + fp + tn + fn)\n",
    "print(\"accuracy =\",accuracy*100)    \n",
    "\n",
    "recall = (tp)/(tp+fn)\n",
    "print(\"recall =\",recall*100)\n",
    "\n",
    "precision = tp/(tp+fp)\n",
    "print(\"precision =\",precision*100)\n",
    "\n",
    "f1 = 2*(precision * recall)/(precision + recall)\n",
    "print(\"f1 =\",f1 *100)\n"
   ]
  },
  {
   "cell_type": "code",
   "execution_count": 18,
   "id": "dfbd7384",
   "metadata": {},
   "outputs": [
    {
     "data": {
      "image/png": "[encoded data removed]",
      "text/plain": [
       "<Figure size 432x288 with 1 Axes>"
      ]
     },
     "metadata": {
      "needs_background": "light"
     },
     "output_type": "display_data"
    }
   ],
   "source": [
    "import matplotlib.pyplot as plt\n",
    "import seaborn as sns\n",
    "plt.bar(['False Negative' , 'True Negative' , 'True Positive' , 'False Positive'],[fn,tn,tp,fp])\n",
    "plt.show()"
   ]
  },
  {
   "cell_type": "code",
   "execution_count": 19,
   "id": "184577df",
   "metadata": {},
   "outputs": [
    {
     "name": "stdout",
     "output_type": "stream",
     "text": [
      "y_test     0     1\n",
      "pred              \n",
      "0       1081   955\n",
      "1        297  1125\n"
     ]
    }
   ],
   "source": [
    "data = {'Sentence' : pred , 'Class': y_test}\n",
    "df = pd.DataFrame(data, columns=['Sentence','Class'])\n",
    "confusion_matrix = pd.crosstab(df['Sentence'], df['Class'], rownames=['pred'], colnames=['y_test'])\n",
    "print (confusion_matrix)"
   ]
  },
  {
   "cell_type": "code",
   "execution_count": 20,
   "id": "43f916e0",
   "metadata": {},
   "outputs": [
    {
     "name": "stdout",
     "output_type": "stream",
     "text": [
      "bu durumu hiç sevmedim: olumsuz\n"
     ]
    }
   ],
   "source": [
    "sentence = \"bu durumu hiç sevmedim\"\n",
    "result = model.predict(vec.transform([sentence]).toarray())\n",
    "classes = {\n",
    "    \"0\": \"olumsuz\",\n",
    "    \"1\": \"olumlu\",\n",
    "}\n",
    "print(sentence + \": \" + classes[str(result[0])])"
   ]
  },
  {
   "cell_type": "code",
   "execution_count": null,
   "id": "d839470a",
   "metadata": {},
   "outputs": [],
   "source": []
  }
 ],
 "metadata": {
  "kernelspec": {
   "display_name": "Python 3 (ipykernel)",
   "language": "python",
   "name": "python3"
  },
  "language_info": {
   "codemirror_mode": {
    "name": "ipython",
    "version": 3
   },
   "file_extension": ".py",
   "mimetype": "text/x-python",
   "name": "python",
   "nbconvert_exporter": "python",
   "pygments_lexer": "ipython3",
   "version": "3.9.7"
  }
 },
 "nbformat": 4,
 "nbformat_minor": 5
}
