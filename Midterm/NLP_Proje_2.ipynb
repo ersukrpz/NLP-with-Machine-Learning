{
 "cells": [
  {
   "cell_type": "code",
   "execution_count": 1,
   "id": "8b0ef352",
   "metadata": {},
   "outputs": [],
   "source": [
    "# 171805012 Refiye Şehnaz Yıldırım\n",
    "# 171805043 Ersu Karpuz"
   ]
  },
  {
   "cell_type": "code",
   "execution_count": 2,
   "id": "f503ce79",
   "metadata": {},
   "outputs": [],
   "source": [
    "import pandas as pd\n",
    "from sklearn.model_selection import train_test_split\n",
    "from sklearn.feature_extraction.text import CountVectorizer\n",
    "from nltk.corpus import stopwords\n",
    "from sklearn.naive_bayes import GaussianNB\n",
    "from sklearn import metrics\n",
    "from nltk.corpus import stopwords\n",
    "from re import search"
   ]
  },
  {
   "cell_type": "code",
   "execution_count": 3,
   "id": "a76350f6",
   "metadata": {},
   "outputs": [
    {
     "data": {
      "text/html": [
       "<div>\n",
       "<style scoped>\n",
       "    .dataframe tbody tr th:only-of-type {\n",
       "        vertical-align: middle;\n",
       "    }\n",
       "\n",
       "    .dataframe tbody tr th {\n",
       "        vertical-align: top;\n",
       "    }\n",
       "\n",
       "    .dataframe thead th {\n",
       "        text-align: right;\n",
       "    }\n",
       "</style>\n",
       "<table border=\"1\" class=\"dataframe\">\n",
       "  <thead>\n",
       "    <tr style=\"text-align: right;\">\n",
       "      <th></th>\n",
       "      <th>Sentence</th>\n",
       "      <th>Class</th>\n",
       "    </tr>\n",
       "  </thead>\n",
       "  <tbody>\n",
       "    <tr>\n",
       "      <th>0</th>\n",
       "      <td>Ulan Wifi'ye bağlıyım ben. Ona bağlıyken Turkc...</td>\n",
       "      <td>olumsuz</td>\n",
       "    </tr>\n",
       "    <tr>\n",
       "      <th>1</th>\n",
       "      <td>20 dk 1 GB internet 500 mb sadece kaşar turkce...</td>\n",
       "      <td>olumsuz</td>\n",
       "    </tr>\n",
       "    <tr>\n",
       "      <th>2</th>\n",
       "      <td>Ayrıca turkcell superonline reklamı kadar da k...</td>\n",
       "      <td>olumsuz</td>\n",
       "    </tr>\n",
       "    <tr>\n",
       "      <th>3</th>\n",
       "      <td>Turkcell çok pahalı ya</td>\n",
       "      <td>olumsuz</td>\n",
       "    </tr>\n",
       "    <tr>\n",
       "      <th>4</th>\n",
       "      <td>Turkcell Kaş'ta internetin cekmiyor</td>\n",
       "      <td>olumsuz</td>\n",
       "    </tr>\n",
       "    <tr>\n",
       "      <th>...</th>\n",
       "      <td>...</td>\n",
       "      <td>...</td>\n",
       "    </tr>\n",
       "    <tr>\n",
       "      <th>13827</th>\n",
       "      <td>@Buragl111 turkcell kazık takıl sen bimcell le...</td>\n",
       "      <td>olumsuz</td>\n",
       "    </tr>\n",
       "    <tr>\n",
       "      <th>13828</th>\n",
       "      <td>@Turkcell merhaba turkcell.20 senelik dostlugu...</td>\n",
       "      <td>olumlu</td>\n",
       "    </tr>\n",
       "    <tr>\n",
       "      <th>13829</th>\n",
       "      <td>@TurkcellHizmet merhaba. Numarami bir baska op...</td>\n",
       "      <td>olumsuz</td>\n",
       "    </tr>\n",
       "    <tr>\n",
       "      <th>13830</th>\n",
       "      <td>iyi de Herkes TURKCELL Abonesi Değil ki ??</td>\n",
       "      <td>olumlu</td>\n",
       "    </tr>\n",
       "    <tr>\n",
       "      <th>13831</th>\n",
       "      <td>@turktelekom çekmiyor çekmiyor kaç para ulan b...</td>\n",
       "      <td>olumlu</td>\n",
       "    </tr>\n",
       "  </tbody>\n",
       "</table>\n",
       "<p>13832 rows × 2 columns</p>\n",
       "</div>"
      ],
      "text/plain": [
       "                                                Sentence    Class\n",
       "0      Ulan Wifi'ye bağlıyım ben. Ona bağlıyken Turkc...  olumsuz\n",
       "1      20 dk 1 GB internet 500 mb sadece kaşar turkce...  olumsuz\n",
       "2      Ayrıca turkcell superonline reklamı kadar da k...  olumsuz\n",
       "3                                 Turkcell çok pahalı ya  olumsuz\n",
       "4                    Turkcell Kaş'ta internetin cekmiyor  olumsuz\n",
       "...                                                  ...      ...\n",
       "13827  @Buragl111 turkcell kazık takıl sen bimcell le...  olumsuz\n",
       "13828  @Turkcell merhaba turkcell.20 senelik dostlugu...   olumlu\n",
       "13829  @TurkcellHizmet merhaba. Numarami bir baska op...  olumsuz\n",
       "13830         iyi de Herkes TURKCELL Abonesi Değil ki ??   olumlu\n",
       "13831  @turktelekom çekmiyor çekmiyor kaç para ulan b...   olumlu\n",
       "\n",
       "[13832 rows x 2 columns]"
      ]
     },
     "execution_count": 3,
     "metadata": {},
     "output_type": "execute_result"
    }
   ],
   "source": [
    "#Upload Data\n",
    "data = pd.read_excel(\"NLP1_train_tweets.xlsx\",header=None)\n",
    "\n",
    "data.columns = ['Sentence','Class']\n",
    "data"
   ]
  },
  {
   "cell_type": "code",
   "execution_count": 4,
   "id": "523f5333",
   "metadata": {},
   "outputs": [
    {
     "name": "stderr",
     "output_type": "stream",
     "text": [
      "C:\\Users\\Ersu\\AppData\\Local\\Temp/ipykernel_14452/4291951993.py:12: FutureWarning: The default value of regex will change from True to False in a future version.\n",
      "  data['Sentence'] = data['Sentence'].str.replace('[^\\w\\s]','')\n"
     ]
    }
   ],
   "source": [
    "#Text Preprocessing\n",
    "columns = ['index','Class', 'Sentence']\n",
    "df_ = pd.DataFrame(columns=columns)\n",
    "\n",
    "#remove email adress\n",
    "data['Sentence'] = data['Sentence'].replace('[a-zA-Z0-9-_.]+@[a-zA-Z0-9-_.]+', '', regex=True)\n",
    "\n",
    "#remove IP address\n",
    "data['Sentence'] = data['Sentence'].replace('((25[0-5]|2[0-4][0-9]|[01]?[0-9][0-9]?)(\\.|$)){4}', '', regex=True)\n",
    "\n",
    "#remove punctaitions and special chracters\n",
    "data['Sentence'] = data['Sentence'].str.replace('[^\\w\\s]','')\n",
    "\n",
    "#remove numbers\n",
    "data['Sentence'] = data['Sentence'].replace('\\d', '', regex=True)\n",
    "\n",
    "data[\"Class\"].unique()\n",
    "\n",
    "data['Sentence'] = data['Sentence'].str.strip().str.lower()"
   ]
  },
  {
   "cell_type": "markdown",
   "id": "7a7ab483",
   "metadata": {},
   "source": [
    "# Negation"
   ]
  },
  {
   "cell_type": "code",
   "execution_count": 5,
   "id": "eb31dfdb",
   "metadata": {},
   "outputs": [],
   "source": [
    "for i, sentence in enumerate(data[\"Sentence\"]): \n",
    "    lst = sentence.split()\n",
    "    substring = \"değil\"\n",
    "    for fullstring in lst:\n",
    "        if search(substring, fullstring):\n",
    "            cümle = \"\"\n",
    "            for j in lst:\n",
    "                j = \"NOT_\" + j\n",
    "                cümle = cümle + j + \" \"\n",
    "            data[\"Sentence\"].loc[i] = cümle\n",
    "    substring = \"yok\"\n",
    "    for fullstring in lst:\n",
    "        if search(substring, fullstring):\n",
    "            cümle = \"\"\n",
    "            for j in lst:\n",
    "                j = \"NOT_\" + j\n",
    "                cümle = cümle + j + \" \"\n",
    "            data[\"Sentence\"].loc[i] = cümle"
   ]
  },
  {
   "cell_type": "markdown",
   "id": "a8063d99",
   "metadata": {},
   "source": [
    "# Naive Bayes"
   ]
  },
  {
   "cell_type": "code",
   "execution_count": 6,
   "id": "c2b8f5bd",
   "metadata": {},
   "outputs": [],
   "source": [
    "for i, cell in enumerate(data[\"Class\"]):\n",
    "    if cell == \"olumsuz\":\n",
    "        value = 0\n",
    "    elif cell == \"olumlu\":\n",
    "        value = 1\n",
    "    else:\n",
    "        value = 2\n",
    "    data[\"Class\"].loc[i] = value"
   ]
  },
  {
   "cell_type": "code",
   "execution_count": 8,
   "id": "d0e57c8a",
   "metadata": {},
   "outputs": [],
   "source": [
    "x = data['Sentence']\n",
    "y = data['Class']\n",
    "x, x_test, y, y_test = train_test_split(x,y, stratify=y, test_size=0.25, random_state=42)"
   ]
  },
  {
   "cell_type": "code",
   "execution_count": 9,
   "id": "9305de6b",
   "metadata": {},
   "outputs": [],
   "source": [
    "vec = CountVectorizer(stop_words=stopwords.words('turkish'))\n",
    "\n",
    "x = vec.fit_transform(x).toarray()\n",
    "x_test = vec.transform(x_test).toarray()"
   ]
  },
  {
   "cell_type": "code",
   "execution_count": 10,
   "id": "b45052a6",
   "metadata": {},
   "outputs": [
    {
     "data": {
      "text/plain": [
       "GaussianNB()"
      ]
     },
     "execution_count": 10,
     "metadata": {},
     "output_type": "execute_result"
    }
   ],
   "source": [
    "model = GaussianNB()\n",
    "model.fit(x.astype('int'), y.astype('int'))"
   ]
  },
  {
   "cell_type": "code",
   "execution_count": 11,
   "id": "78b41384",
   "metadata": {},
   "outputs": [],
   "source": [
    "pred = model.predict(x_test)"
   ]
  },
  {
   "cell_type": "code",
   "execution_count": 12,
   "id": "00b8e8b8",
   "metadata": {},
   "outputs": [
    {
     "name": "stdout",
     "output_type": "stream",
     "text": [
      "accuracy = 64.22787738577213\n",
      "recall = 79.08902691511386\n",
      "precision = 55.096153846153854\n",
      "f1 = 64.94757721734203\n"
     ]
    }
   ],
   "source": [
    "tp = 0\n",
    "fp = 0\n",
    "tn = 0\n",
    "fn = 0\n",
    "for i in range(len(pred)):\n",
    "    if pred[i] == 1 and y_test.values[i] == 1:\n",
    "        tp += 1\n",
    "    elif pred[i] == 0 and y_test.values[i] == 1:\n",
    "        fp += 1\n",
    "    elif pred[i] == 0 and y_test.values[i] == 0:\n",
    "        tn += 1\n",
    "    elif pred[i] == 1 and y_test.values[i] == 0:\n",
    "        fn += 1\n",
    "\n",
    "accuracy = (tp + tn)/(tp + fp + tn + fn)\n",
    "print(\"accuracy =\",accuracy*100)    \n",
    "\n",
    "recall = (tp)/(tp+fn)\n",
    "print(\"recall =\",recall*100)\n",
    "\n",
    "precision = tp/(tp+fp)\n",
    "print(\"precision =\",precision*100)\n",
    "\n",
    "f1 = 2*(precision * recall)/(precision + recall)\n",
    "print(\"f1 =\",f1 *100)"
   ]
  },
  {
   "cell_type": "code",
   "execution_count": null,
   "id": "0b8bf282",
   "metadata": {},
   "outputs": [],
   "source": []
  },
  {
   "cell_type": "code",
   "execution_count": null,
   "id": "9be01b40",
   "metadata": {},
   "outputs": [],
   "source": []
  }
 ],
 "metadata": {
  "kernelspec": {
   "display_name": "Python 3 (ipykernel)",
   "language": "python",
   "name": "python3"
  },
  "language_info": {
   "codemirror_mode": {
    "name": "ipython",
    "version": 3
   },
   "file_extension": ".py",
   "mimetype": "text/x-python",
   "name": "python",
   "nbconvert_exporter": "python",
   "pygments_lexer": "ipython3",
   "version": "3.9.7"
  }
 },
 "nbformat": 4,
 "nbformat_minor": 5
}
