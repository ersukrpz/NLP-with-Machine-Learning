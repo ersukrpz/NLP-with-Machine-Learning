{
 "cells": [
  {
   "cell_type": "code",
   "execution_count": 1,
   "id": "e0be8dbe",
   "metadata": {},
   "outputs": [],
   "source": [
    "# 171805012 Refiye Şehnaz Yıldırım\n",
    "# 171805043 Ersu Karpuz"
   ]
  },
  {
   "cell_type": "code",
   "execution_count": 2,
   "id": "b2190add",
   "metadata": {},
   "outputs": [
    {
     "name": "stderr",
     "output_type": "stream",
     "text": [
      "[nltk_data] Downloading package stopwords to\n",
      "[nltk_data]     C:\\Users\\Ersu\\AppData\\Roaming\\nltk_data...\n",
      "[nltk_data]   Package stopwords is already up-to-date!\n"
     ]
    },
    {
     "data": {
      "text/plain": [
       "True"
      ]
     },
     "execution_count": 2,
     "metadata": {},
     "output_type": "execute_result"
    }
   ],
   "source": [
    "import pandas as pd\n",
    "import numpy as np\n",
    "import matplotlib.pyplot as plt\n",
    "import re\n",
    "from nltk.corpus import stopwords\n",
    "import nltk\n",
    "nltk.download('stopwords')"
   ]
  },
  {
   "cell_type": "code",
   "execution_count": 3,
   "id": "c06f7ebf",
   "metadata": {},
   "outputs": [
    {
     "data": {
      "text/html": [
       "<div>\n",
       "<style scoped>\n",
       "    .dataframe tbody tr th:only-of-type {\n",
       "        vertical-align: middle;\n",
       "    }\n",
       "\n",
       "    .dataframe tbody tr th {\n",
       "        vertical-align: top;\n",
       "    }\n",
       "\n",
       "    .dataframe thead th {\n",
       "        text-align: right;\n",
       "    }\n",
       "</style>\n",
       "<table border=\"1\" class=\"dataframe\">\n",
       "  <thead>\n",
       "    <tr style=\"text-align: right;\">\n",
       "      <th></th>\n",
       "      <th>Sentence</th>\n",
       "      <th>Class</th>\n",
       "    </tr>\n",
       "  </thead>\n",
       "  <tbody>\n",
       "    <tr>\n",
       "      <th>0</th>\n",
       "      <td>Ulan Wifi'ye bağlıyım ben. Ona bağlıyken Turkc...</td>\n",
       "      <td>olumsuz</td>\n",
       "    </tr>\n",
       "    <tr>\n",
       "      <th>1</th>\n",
       "      <td>20 dk 1 GB internet 500 mb sadece kaşar turkce...</td>\n",
       "      <td>olumsuz</td>\n",
       "    </tr>\n",
       "    <tr>\n",
       "      <th>2</th>\n",
       "      <td>Ayrıca turkcell superonline reklamı kadar da k...</td>\n",
       "      <td>olumsuz</td>\n",
       "    </tr>\n",
       "    <tr>\n",
       "      <th>3</th>\n",
       "      <td>Turkcell çok pahalı ya</td>\n",
       "      <td>olumsuz</td>\n",
       "    </tr>\n",
       "    <tr>\n",
       "      <th>4</th>\n",
       "      <td>Turkcell Kaş'ta internetin cekmiyor</td>\n",
       "      <td>olumsuz</td>\n",
       "    </tr>\n",
       "    <tr>\n",
       "      <th>...</th>\n",
       "      <td>...</td>\n",
       "      <td>...</td>\n",
       "    </tr>\n",
       "    <tr>\n",
       "      <th>13827</th>\n",
       "      <td>@Buragl111 turkcell kazık takıl sen bimcell le...</td>\n",
       "      <td>olumsuz</td>\n",
       "    </tr>\n",
       "    <tr>\n",
       "      <th>13828</th>\n",
       "      <td>@Turkcell merhaba turkcell.20 senelik dostlugu...</td>\n",
       "      <td>olumlu</td>\n",
       "    </tr>\n",
       "    <tr>\n",
       "      <th>13829</th>\n",
       "      <td>@TurkcellHizmet merhaba. Numarami bir baska op...</td>\n",
       "      <td>olumsuz</td>\n",
       "    </tr>\n",
       "    <tr>\n",
       "      <th>13830</th>\n",
       "      <td>iyi de Herkes TURKCELL Abonesi Değil ki ??</td>\n",
       "      <td>olumlu</td>\n",
       "    </tr>\n",
       "    <tr>\n",
       "      <th>13831</th>\n",
       "      <td>@turktelekom çekmiyor çekmiyor kaç para ulan b...</td>\n",
       "      <td>olumlu</td>\n",
       "    </tr>\n",
       "  </tbody>\n",
       "</table>\n",
       "<p>13832 rows × 2 columns</p>\n",
       "</div>"
      ],
      "text/plain": [
       "                                                Sentence    Class\n",
       "0      Ulan Wifi'ye bağlıyım ben. Ona bağlıyken Turkc...  olumsuz\n",
       "1      20 dk 1 GB internet 500 mb sadece kaşar turkce...  olumsuz\n",
       "2      Ayrıca turkcell superonline reklamı kadar da k...  olumsuz\n",
       "3                                 Turkcell çok pahalı ya  olumsuz\n",
       "4                    Turkcell Kaş'ta internetin cekmiyor  olumsuz\n",
       "...                                                  ...      ...\n",
       "13827  @Buragl111 turkcell kazık takıl sen bimcell le...  olumsuz\n",
       "13828  @Turkcell merhaba turkcell.20 senelik dostlugu...   olumlu\n",
       "13829  @TurkcellHizmet merhaba. Numarami bir baska op...  olumsuz\n",
       "13830         iyi de Herkes TURKCELL Abonesi Değil ki ??   olumlu\n",
       "13831  @turktelekom çekmiyor çekmiyor kaç para ulan b...   olumlu\n",
       "\n",
       "[13832 rows x 2 columns]"
      ]
     },
     "execution_count": 3,
     "metadata": {},
     "output_type": "execute_result"
    }
   ],
   "source": [
    "#Upload Data\n",
    "data = pd.read_excel(\"NLP1_train_tweets.xlsx\",header=None)\n",
    "\n",
    "data.columns = ['Sentence','Class']\n",
    "data"
   ]
  },
  {
   "cell_type": "code",
   "execution_count": 4,
   "id": "01c375b1",
   "metadata": {},
   "outputs": [
    {
     "data": {
      "text/html": [
       "<div>\n",
       "<style scoped>\n",
       "    .dataframe tbody tr th:only-of-type {\n",
       "        vertical-align: middle;\n",
       "    }\n",
       "\n",
       "    .dataframe tbody tr th {\n",
       "        vertical-align: top;\n",
       "    }\n",
       "\n",
       "    .dataframe thead th {\n",
       "        text-align: right;\n",
       "    }\n",
       "</style>\n",
       "<table border=\"1\" class=\"dataframe\">\n",
       "  <thead>\n",
       "    <tr style=\"text-align: right;\">\n",
       "      <th></th>\n",
       "      <th>Sentence</th>\n",
       "      <th>Class</th>\n",
       "    </tr>\n",
       "  </thead>\n",
       "  <tbody>\n",
       "    <tr>\n",
       "      <th>0</th>\n",
       "      <td>Ulan Wifi'ye bağlıyım ben. Ona bağlıyken Turkc...</td>\n",
       "      <td>olumsuz</td>\n",
       "    </tr>\n",
       "    <tr>\n",
       "      <th>1</th>\n",
       "      <td>20 dk 1 GB internet 500 mb sadece kaşar turkce...</td>\n",
       "      <td>olumsuz</td>\n",
       "    </tr>\n",
       "    <tr>\n",
       "      <th>2</th>\n",
       "      <td>Ayrıca turkcell superonline reklamı kadar da k...</td>\n",
       "      <td>olumsuz</td>\n",
       "    </tr>\n",
       "    <tr>\n",
       "      <th>3</th>\n",
       "      <td>Turkcell çok pahalı ya</td>\n",
       "      <td>olumsuz</td>\n",
       "    </tr>\n",
       "    <tr>\n",
       "      <th>4</th>\n",
       "      <td>Turkcell Kaş'ta internetin cekmiyor</td>\n",
       "      <td>olumsuz</td>\n",
       "    </tr>\n",
       "  </tbody>\n",
       "</table>\n",
       "</div>"
      ],
      "text/plain": [
       "                                            Sentence    Class\n",
       "0  Ulan Wifi'ye bağlıyım ben. Ona bağlıyken Turkc...  olumsuz\n",
       "1  20 dk 1 GB internet 500 mb sadece kaşar turkce...  olumsuz\n",
       "2  Ayrıca turkcell superonline reklamı kadar da k...  olumsuz\n",
       "3                             Turkcell çok pahalı ya  olumsuz\n",
       "4                Turkcell Kaş'ta internetin cekmiyor  olumsuz"
      ]
     },
     "execution_count": 4,
     "metadata": {},
     "output_type": "execute_result"
    }
   ],
   "source": [
    "data.head()"
   ]
  },
  {
   "cell_type": "code",
   "execution_count": 5,
   "id": "f91a7b93",
   "metadata": {},
   "outputs": [
    {
     "data": {
      "text/plain": [
       "(13832, 2)"
      ]
     },
     "execution_count": 5,
     "metadata": {},
     "output_type": "execute_result"
    }
   ],
   "source": [
    "data.shape"
   ]
  },
  {
   "cell_type": "code",
   "execution_count": 6,
   "id": "fb38e6b6",
   "metadata": {},
   "outputs": [],
   "source": [
    "data['Sentence'] = data['Sentence'].str.strip().str.lower()"
   ]
  },
  {
   "cell_type": "code",
   "execution_count": 7,
   "id": "63067259",
   "metadata": {},
   "outputs": [
    {
     "data": {
      "text/plain": [
       "array(['olumsuz', 'olumlu'], dtype=object)"
      ]
     },
     "execution_count": 7,
     "metadata": {},
     "output_type": "execute_result"
    }
   ],
   "source": [
    "data[\"Class\"].unique()"
   ]
  },
  {
   "cell_type": "code",
   "execution_count": 8,
   "id": "58a17abb",
   "metadata": {},
   "outputs": [
    {
     "data": {
      "text/plain": [
       "<BarContainer object of 2 artists>"
      ]
     },
     "execution_count": 8,
     "metadata": {},
     "output_type": "execute_result"
    },
    {
     "data": {
      "image/png": "[encoded data removed]",
      "text/plain": [
       "<Figure size 432x288 with 1 Axes>"
      ]
     },
     "metadata": {
      "needs_background": "light"
     },
     "output_type": "display_data"
    }
   ],
   "source": [
    "plt.bar(data[\"Class\"].value_counts().keys(), data[\"Class\"].value_counts().values)"
   ]
  },
  {
   "cell_type": "markdown",
   "id": "570ed237",
   "metadata": {},
   "source": [
    "# Laplacian Smoothing\n"
   ]
  },
  {
   "cell_type": "code",
   "execution_count": 9,
   "id": "3a5ea595",
   "metadata": {},
   "outputs": [],
   "source": [
    "bow_dict = {\n",
    "    'olumlu': [],\n",
    "    'olumsuz': []\n",
    "}"
   ]
  },
  {
   "cell_type": "code",
   "execution_count": 10,
   "id": "48263c34",
   "metadata": {},
   "outputs": [],
   "source": [
    "for i, sentence in enumerate(data[\"Sentence\"]):\n",
    "    bow_dict[data[\"Class\"][i]].extend(sentence.split())\n",
    "    "
   ]
  },
  {
   "cell_type": "code",
   "execution_count": 11,
   "id": "6c06efca",
   "metadata": {},
   "outputs": [],
   "source": [
    "bow = \" \".join(sentence for sentence in data[\"Sentence\"]).split()\n",
    "sentence_lap = []\n",
    "for word in bow:\n",
    "    if word not in sentence_lap:\n",
    "        sentence_lap.append(word)"
   ]
  },
  {
   "cell_type": "code",
   "execution_count": 12,
   "id": "92b1b917",
   "metadata": {},
   "outputs": [],
   "source": [
    "def prior(Class):\n",
    "    return data[\"Class\"].value_counts()[Class]/len(data[\"Class\"])"
   ]
  },
  {
   "cell_type": "code",
   "execution_count": 13,
   "id": "f145a927",
   "metadata": {},
   "outputs": [],
   "source": [
    "def laplacian(w, a):\n",
    "    num = 0\n",
    "    for word in a:\n",
    "        if w == word:\n",
    "            num += 1\n",
    "    return num"
   ]
  },
  {
   "cell_type": "code",
   "execution_count": 14,
   "id": "6ea83f8e",
   "metadata": {},
   "outputs": [],
   "source": [
    "def like_sentence(w, Class):\n",
    "    return (laplacian(w, bow_dict[Class])+1)/(len(bow_dict[Class])+len(sentence_lap))"
   ]
  },
  {
   "cell_type": "code",
   "execution_count": 15,
   "id": "cb2437d5",
   "metadata": {},
   "outputs": [],
   "source": [
    "sentence = \"bilgisayar bühendisliğini seviyorum\""
   ]
  },
  {
   "cell_type": "code",
   "execution_count": 16,
   "id": "1cf21242",
   "metadata": {},
   "outputs": [
    {
     "name": "stdout",
     "output_type": "stream",
     "text": [
      "6.396676802152773e-09\n"
     ]
    }
   ],
   "source": [
    "num = prior(\"olumlu\")\n",
    "for item in sentence.split():\n",
    "    if item in sentence_lap:\n",
    "        num = num * like_sentence(item, \"olumlu\")\n",
    "print(num)"
   ]
  },
  {
   "cell_type": "code",
   "execution_count": null,
   "id": "df5e284a",
   "metadata": {},
   "outputs": [],
   "source": []
  }
 ],
 "metadata": {
  "kernelspec": {
   "display_name": "Python 3 (ipykernel)",
   "language": "python",
   "name": "python3"
  },
  "language_info": {
   "codemirror_mode": {
    "name": "ipython",
    "version": 3
   },
   "file_extension": ".py",
   "mimetype": "text/x-python",
   "name": "python",
   "nbconvert_exporter": "python",
   "pygments_lexer": "ipython3",
   "version": "3.9.7"
  }
 },
 "nbformat": 4,
 "nbformat_minor": 5
}
